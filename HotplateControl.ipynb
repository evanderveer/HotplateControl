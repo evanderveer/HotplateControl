{
 "cells": [
  {
   "cell_type": "markdown",
   "metadata": {},
   "source": [
    "# HotplateControl\n",
    "This Jupyter notebook can be used to control the temperature and stirring speed of a DragonLab hotplate stirrer. Two types of commands are supported: \n",
    "* a simple set command, which sets the temperature or stirring speed at a fixed value, and \n",
    "* a ramp command, which semi-continuously raises the temperature or stirring speed to a value in a predefined timespan. \n",
    "\n",
    "The commands are supplied in the form of a file, in which a new command in entered on each line. The commands file has the following structure:\n",
    "\n",
    "    <length of command in s> <ramp/set> <s/t> <final temperature in 0.1 degree/stirring speed in rpm>\n",
    "For example,\n",
    "\n",
    "    300 set t 3000\n",
    "sets the temperature to 300 degrees celcius for 300 seconds and\n",
    "\n",
    "    500 ramp s 250\n",
    "ramps the stirring speed to 250 rpm in 500 seconds."
   ]
  },
  {
   "cell_type": "code",
   "execution_count": 1,
   "metadata": {},
   "outputs": [],
   "source": [
    "from HotplateControl import *"
   ]
  },
  {
   "cell_type": "markdown",
   "metadata": {},
   "source": [
    "## File administration\n",
    "List the available command files, make a new command file or delete a command file."
   ]
  },
  {
   "cell_type": "markdown",
   "metadata": {},
   "source": [
    "### *List commands files*"
   ]
  },
  {
   "cell_type": "code",
   "execution_count": null,
   "metadata": {},
   "outputs": [],
   "source": [
    "for item in list_cmd_files():\n",
    "    print(item)"
   ]
  },
  {
   "cell_type": "markdown",
   "metadata": {},
   "source": [
    "### *Make a commands file*"
   ]
  },
  {
   "cell_type": "code",
   "execution_count": 3,
   "metadata": {
    "collapsed": true
   },
   "outputs": [],
   "source": [
    "make_cmd_file(cmds=\n",
    "'''\n",
    "100 set t 700\n",
    "100 ramp t 3000\n",
    "100 set t 300\n",
    "''',\n",
    "filename='somefile.txt')"
   ]
  },
  {
   "cell_type": "markdown",
   "metadata": {},
   "source": [
    "### *Delete a commands file*\n"
   ]
  },
  {
   "cell_type": "code",
   "execution_count": 4,
   "metadata": {
    "collapsed": true
   },
   "outputs": [],
   "source": [
    "delete_cmd_file(filename='somefile.txt')"
   ]
  },
  {
   "cell_type": "markdown",
   "metadata": {},
   "source": [
    "## Connect and run file\n",
    "Connect to the hotplate, initialize and run the commands in a specified commands file. The correct COM-port can be found in Windows device manager, or equivalent. The exec_cmd_file() method takes a single parameter, which contains the name of the commands file. "
   ]
  },
  {
   "cell_type": "code",
   "execution_count": null,
   "metadata": {},
   "outputs": [],
   "source": [
    "cmd_file = 'test.txt'\n",
    "with Hotplate(port_name='COM8', step_size=10,\n",
    "                  plotfile='plotfile.csv', logfile='hotplate.log') as hp:\n",
    "    hp.exec_cmd_file(cmd_file)"
   ]
  },
  {
   "cell_type": "markdown",
   "metadata": {},
   "source": [
    "## Connect and monitor\n",
    "Connect to the hotplate, initialize and monitor the temperature and stirring speed. The correct COM-port can be found in Windows device manager, or equivalent. The monitor() method can be called with a max_time parameter which determines how long the function runs. Without that parameter, the function will run indefinitely, or until it is interrupted by pressing i twice. "
   ]
  },
  {
   "cell_type": "code",
   "execution_count": 2,
   "metadata": {},
   "outputs": [
    {
     "name": "stdout",
     "output_type": "stream",
     "text": [
      "Connecting.................Connected\n",
      "Time: 2.6769; Set temp: 50.0; Act temp: 50.0; Set speed: 300; Act speed: 0\n",
      "Connection closed\n"
     ]
    }
   ],
   "source": [
    "cmd_file = 'test.txt'\n",
    "with Hotplate(port_name='COM8', step_size=10,\n",
    "                  plotfile='monitorfile.csv', logfile='hotplate.log') as hp:\n",
    "    hp.monitor()"
   ]
  },
  {
   "cell_type": "code",
   "execution_count": null,
   "metadata": {
    "collapsed": true
   },
   "outputs": [],
   "source": []
  }
 ],
 "metadata": {
  "kernelspec": {
   "display_name": "Python 3",
   "language": "python",
   "name": "python3"
  },
  "language_info": {
   "codemirror_mode": {
    "name": "ipython",
    "version": 3
   },
   "file_extension": ".py",
   "mimetype": "text/x-python",
   "name": "python",
   "nbconvert_exporter": "python",
   "pygments_lexer": "ipython3",
   "version": "3.6.1"
  }
 },
 "nbformat": 4,
 "nbformat_minor": 2
}
